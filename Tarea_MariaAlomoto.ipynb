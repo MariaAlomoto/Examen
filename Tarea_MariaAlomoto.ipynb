{
 "cells": [
  {
   "cell_type": "code",
   "execution_count": 2,
   "id": "97432b9a",
   "metadata": {},
   "outputs": [],
   "source": [
    "import re\n",
    "import csv"
   ]
  },
  {
   "cell_type": "code",
   "execution_count": 10,
   "id": "f5dede26",
   "metadata": {},
   "outputs": [],
   "source": [
    "with open('pubmed-epigenetic-set (2).txt', encoding=\"UTF-8\" ) as f:\n",
    "    my_text = f.read()"
   ]
  },
  {
   "cell_type": "code",
   "execution_count": 11,
   "id": "4ff35436",
   "metadata": {},
   "outputs": [
    {
     "data": {
      "text/plain": [
       "37383264"
      ]
     },
     "execution_count": 11,
     "metadata": {},
     "output_type": "execute_result"
    }
   ],
   "source": [
    "#numero de caracteres\n",
    "len (my_text)\n"
   ]
  },
  {
   "cell_type": "code",
   "execution_count": 12,
   "id": "f13d5e44",
   "metadata": {},
   "outputs": [
    {
     "name": "stdout",
     "output_type": "stream",
     "text": [
      "  - 1474-1776 (Linking)\n",
      "VI  - 19\n",
      "IP  - 11\n",
      "DP  - 2020 Nov\n",
      "TI  - Targeting the epigenetic regulation of antitumour immunity.\n",
      "PG  - 776-800\n",
      "LID - 10.1038/s41573-020-0077-5 [doi]\n",
      "AB  - Dysregulation of the epigenome drives aberrant transcriptional programmes that   promote cancer onset and progression. Although defective gene regulation often   affects oncogenic and tumour-suppressor networks, tumour immunogenicity and immune   cells involved in antitumour responses may also be affected by epigenomic   alterations. This could have important implications for the development and   application of both epigenetic therapies and cancer immunotherapies, and   combinations thereof. Here, we review the role of key aberrant epigenetic processes   - DNA methylation and post-translational modification of histones - in tumour   immunogenicity, as well as the effects of epigenetic modulation on antitumour immune   cell function. We emphasize opportunities for small-molecule inhibitors of   epigenetic regulators to enhance antitumour immune responses, and discuss the   challenges of exploiting the complex interplay between cancer epigenetics and cancer   immunology to develop treatment regimens combining epigenetic therapies with   immunotherapies.\n",
      "FAU - Hogg, Simon J\n",
      "AU  - Hogg SJ\n",
      "AUID- ORCID: 0000-0002-3170-839X\n",
      "AD  - Translational Haematology Program, Peter MacCallum Cancer Centre, Melbourne,   Victoria, Australia.\n",
      "AD  - Sir Peter MacCallum Department of Oncology, The University of Melbourne, Parkville,   Victoria, Australia.\n",
      "AD  - Human Oncology and Pathogenesis Program, Memorial Sloan Kettering Cancer Center, New   York, NY, USA.\n",
      "FAU - Beavis, Paul A\n",
      "AU  - Beavis PA\n",
      "AUID- ORCID: 0000-0002-2116-013X\n",
      "AD  - Sir Peter MacCallum Department of Oncology, The University of Melbourne, Parkville,   Victoria, Australia.\n",
      "AD  - Cancer Immunology Program, Peter MacCallum Cancer Centre, Melbourne, Victoria,   Australia.\n",
      "FAU - Dawson, Mark A\n",
      "AU  - Dawson MA\n",
      "AUID- ORCID: 0000-0002-5464-5029\n",
      "AD  - Translational Haematology Program, Peter MacCallum Cancer Centre, Melbourne,   Victoria, Australia.\n",
      "AD  - Sir Peter MacCallum Department of Oncology, The University of Melbourne, Parkville,   Victoria, Australia.\n",
      "AD  - Department of Haematology, Peter MacCallum Cancer Centre, Melbourne, Victoria,   Australia.\n",
      "FAU - Johnstone, Ricky W\n",
      "AU  - Johnstone RW\n",
      "AUID- ORCID: 0000-0001-7053-9237\n",
      "AD  - Translational Haematology Program, Peter MacCallum Cancer Centre, Melbourne,   Victoria, Australia. ricky.johnstone@petermac.org.\n",
      "AD  - Sir Peter MacCallum Department of Oncology, The University of Melbourne, Parkville,   Victoria, Australia. ricky.johnstone@petermac.org.\n",
      "LA  - eng\n",
      "PT  - Journal Article\n",
      "PT  - Review\n",
      "DEP - 20200914\n",
      "PL  - England\n",
      "TA  - Nat Rev Drug Discov\n",
      "JT  - Nature reviews. Drug discovery\n",
      "JID - 101124171\n",
      "RN  - 0 (Antineoplastic Agents)\n",
      "RN  - 0 (Small Molecule Libraries)\n",
      "SB  - IM\n",
      "MH \n"
     ]
    }
   ],
   "source": [
    "#union de lineas\n",
    "my_text = re.sub (r'\\s{6}', ' ', my_text)\n",
    "print(my_text[100:3000])"
   ]
  },
  {
   "cell_type": "code",
   "execution_count": 13,
   "id": "a34d72a6",
   "metadata": {},
   "outputs": [],
   "source": [
    "zipcodes = re.findall(r'[A-Z]{2}\\s(\\d{5}), USA', my_text)"
   ]
  },
  {
   "cell_type": "code",
   "execution_count": 14,
   "id": "1dbcb661",
   "metadata": {},
   "outputs": [
    {
     "data": {
      "text/plain": [
       "4201"
      ]
     },
     "execution_count": 14,
     "metadata": {},
     "output_type": "execute_result"
    }
   ],
   "source": [
    "len(zipcodes)"
   ]
  },
  {
   "cell_type": "code",
   "execution_count": 15,
   "id": "ba9c444f",
   "metadata": {},
   "outputs": [
    {
     "data": {
      "text/plain": [
       "['19104',\n",
       " '19104',\n",
       " '20892',\n",
       " '06511',\n",
       " '06516',\n",
       " '06511',\n",
       " '06511',\n",
       " '06516',\n",
       " '06520',\n",
       " '06511']"
      ]
     },
     "execution_count": 15,
     "metadata": {},
     "output_type": "execute_result"
    }
   ],
   "source": [
    "zipcodes[:10]"
   ]
  },
  {
   "cell_type": "code",
   "execution_count": 16,
   "id": "4ed67996",
   "metadata": {},
   "outputs": [
    {
     "data": {
      "text/plain": [
       "['01003',\n",
       " '01605',\n",
       " '01702',\n",
       " '01821',\n",
       " '01890',\n",
       " '02045',\n",
       " '02111',\n",
       " '02114',\n",
       " '02115',\n",
       " '02118']"
      ]
     },
     "execution_count": 16,
     "metadata": {},
     "output_type": "execute_result"
    }
   ],
   "source": [
    "unique_zipcodes = list(set(zipcodes))\n",
    "unique_zipcodes.sort()\n",
    "unique_zipcodes[:10]"
   ]
  },
  {
   "cell_type": "code",
   "execution_count": 17,
   "id": "aaccbceb",
   "metadata": {},
   "outputs": [
    {
     "data": {
      "text/plain": [
       "370"
      ]
     },
     "execution_count": 17,
     "metadata": {},
     "output_type": "execute_result"
    }
   ],
   "source": [
    "len(unique_zipcodes)\n"
   ]
  },
  {
   "cell_type": "code",
   "execution_count": null,
   "id": "8fd97b41",
   "metadata": {},
   "outputs": [],
   "source": []
  }
 ],
 "metadata": {
  "kernelspec": {
   "display_name": "Python 3 (ipykernel)",
   "language": "python",
   "name": "python3"
  },
  "language_info": {
   "codemirror_mode": {
    "name": "ipython",
    "version": 3
   },
   "file_extension": ".py",
   "mimetype": "text/x-python",
   "name": "python",
   "nbconvert_exporter": "python",
   "pygments_lexer": "ipython3",
   "version": "3.9.7"
  }
 },
 "nbformat": 4,
 "nbformat_minor": 5
}
